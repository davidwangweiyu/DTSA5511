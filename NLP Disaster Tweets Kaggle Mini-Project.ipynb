{
 "cells": [
  {
   "cell_type": "markdown",
   "id": "d303415a",
   "metadata": {},
   "source": [
    "# Natural Language Processing Tweets\n",
    "By Wei Yu (David) Wang, DTSA 5511, April 2024"
   ]
  },
  {
   "cell_type": "markdown",
   "id": "2e6ba379",
   "metadata": {},
   "source": [
    "### Required modules "
   ]
  },
  {
   "cell_type": "code",
   "execution_count": 51,
   "id": "6917ab99-c76b-45d2-8b9e-d7da8cfb5fd6",
   "metadata": {},
   "outputs": [],
   "source": [
    "import pandas as pd\n",
    "import numpy as np\n",
    "from tensorflow.keras.models import Sequential\n",
    "from tensorflow.keras.layers import Embedding, LSTM, Dense, Dropout\n",
    "from tensorflow.keras.preprocessing.text import Tokenizer\n",
    "from tensorflow.keras.preprocessing.sequence import pad_sequences\n",
    "from sklearn.model_selection import train_test_split\n",
    "\n",
    "from tensorflow.keras import layers\n",
    "import keras_tuner\n",
    "from keras_tuner import RandomSearch\n",
    "\n",
    "import random\n",
    "import matplotlib.pyplot as plt"
   ]
  },
  {
   "cell_type": "markdown",
   "id": "3a91da9b",
   "metadata": {},
   "source": [
    "## Project Objective\n",
    "\n",
    "The primary aim of this project is to develop a tweet classifier using Natural Language Processing (NLP) techniques and Recurrent Neural Networks (RNNs). This classifier will distinguish tweets related to disasters from non-disaster tweets.\n",
    "\n",
    "### Potential Applications\n",
    "A real-life company in this field is Dataminr, which detects the earliest signals of high-impact events and emerging risks from within publicly available data.\n",
    "1. Early Warning System: The classifier can serve as an alert mechanism by identifying disaster-related tweets before official news reports are available, providing a crucial advantage in timely disaster response.\n",
    "2. Active Crisis Monitoring: By filtering and isolating tweets related to disasters, the system offers authorities a real-time information stream. This capability eliminates the need for manual searches across potentially diverse and numerous hashtags.\n",
    "\n",
    "\n",
    "### Data Source\n",
    "\n",
    "This project utilizes datasets from the [NLP with Disaster Tweets Kaggle competition](https://www.kaggle.com/competitions/nlp-getting-started/). These datasets will be instrumental in training and testing our model.\n"
   ]
  },
  {
   "cell_type": "markdown",
   "id": "52e524c3",
   "metadata": {},
   "source": [
    "## Exploratory Data Analysis (EDA) — Inspect, Visualize and Clean the Data"
   ]
  },
  {
   "cell_type": "markdown",
   "id": "1e6a2910",
   "metadata": {},
   "source": [
    "### Loading the data"
   ]
  },
  {
   "cell_type": "code",
   "execution_count": 52,
   "id": "ee174eee-8de4-4920-af2b-c8fa929b15bd",
   "metadata": {},
   "outputs": [
    {
     "name": "stdout",
     "output_type": "stream",
     "text": [
      "<class 'pandas.core.frame.DataFrame'>\n",
      "RangeIndex: 7613 entries, 0 to 7612\n",
      "Data columns (total 5 columns):\n",
      " #   Column    Non-Null Count  Dtype \n",
      "---  ------    --------------  ----- \n",
      " 0   id        7613 non-null   int64 \n",
      " 1   keyword   7552 non-null   object\n",
      " 2   location  5080 non-null   object\n",
      " 3   text      7613 non-null   object\n",
      " 4   target    7613 non-null   int64 \n",
      "dtypes: int64(2), object(3)\n",
      "memory usage: 297.5+ KB\n"
     ]
    }
   ],
   "source": [
    "# Step 1: Loading training data\n",
    "df = pd.read_csv('train.csv')\n",
    "df.info()"
   ]
  },
  {
   "cell_type": "code",
   "execution_count": 53,
   "id": "ee398109",
   "metadata": {},
   "outputs": [
    {
     "data": {
      "text/plain": [
       "7613"
      ]
     },
     "execution_count": 53,
     "metadata": {},
     "output_type": "execute_result"
    }
   ],
   "source": [
    "# Step 2: Preprocessing\n",
    "texts = df['text'].apply(lambda x: x.lower())  # simple cleaning converting text to lower case\n",
    "targets = df['target']\n",
    "\n",
    "len(texts)"
   ]
  },
  {
   "cell_type": "markdown",
   "id": "acf87731",
   "metadata": {},
   "source": [
    "It looks like there are 7613 training tweets"
   ]
  },
  {
   "cell_type": "code",
   "execution_count": 54,
   "id": "b9436a89",
   "metadata": {},
   "outputs": [
    {
     "data": {
      "image/png": "[encoded data removed]",
      "text/plain": [
       "<Figure size 640x480 with 1 Axes>"
      ]
     },
     "metadata": {},
     "output_type": "display_data"
    }
   ],
   "source": [
    "# checking if there is a significant training class imbalance\n",
    "\n",
    "unique_labels, counts = np.unique(df.target.values, return_counts=True)\n",
    "plt.pie(counts/np.sum(counts), labels=unique_labels, autopct='%1.1f%%')\n",
    "plt.show()"
   ]
  },
  {
   "cell_type": "markdown",
   "id": "d3006460",
   "metadata": {},
   "source": [
    "It looks like there is a good balance of non-disaster and disaster related tweets."
   ]
  },
  {
   "cell_type": "code",
   "execution_count": 55,
   "id": "1994a246",
   "metadata": {},
   "outputs": [
    {
     "name": "stdout",
     "output_type": "stream",
     "text": [
      " \n",
      "holy moly that was crushed.\n",
      " \n",
      "the cryptic words that guided pilots on the hiroshima bombing mission http://t.co/fce0k1ihti\n",
      " \n",
      "@fewmoretweets all lives matter. just not a fan of burning down buildings and stealing from your neighbors to 'protest'\n",
      " \n",
      "i hate that im so awkward and i ruin things\n",
      " \n",
      "a dayton-area org tells me it was hit by a cyber attack: http://t.co/7lhkjz0ivo\n",
      " \n",
      "downtown emergency service center is hiring! #chemical #dependency counselor or intern in #seattle apply now! #jobs http://t.co/hhtwayt4yo\n",
      " \n",
      "jacksonville  family bands together as memorial is planned for  ... http://t.co/tilgurkv7z\n",
      " \n",
      "@deosl86 @xavier_marquis hostages are meaningless might as well just play cod search and destroy.\n",
      " \n",
      "read an eyewitness account from #hiroshima from this day in 1945 http://t.co/quedv2xxxx #life\n",
      " \n",
      "@samajp32 really needs to tone it down some in the weight room. rt @soonersportstv: demolition (cont) http://t.co/2o7eva1coe\n",
      " \n",
      "nbanews soudelor typhoon soudelor is taking dead aim at taiwan and is expected to make landfall friday according to the joint typhoonû_\n",
      " \n",
      "watch this airport get swallowed up by a sandstorm in under a minute http://t.co/tvyqczgjdy\n",
      " \n",
      "latest : trains derailment: 'it's the freakiest of freak accidents' - the indian express: the indi... http://t.co/ildbeje225 #indiannews\n",
      " \n",
      "#teamfollowback madhya pradesh train derailment: village youth saved many lives  #followback\n",
      " \n",
      "2pcs 18w cree led work light  offroad lamp car truck boat mining 4wd flood beam - full reaû_ http://t.co/1qt51r5h98 http://t.co/oqh1jbuenl\n",
      " \n",
      "#flood #disaster heavy rain causes flash flooding of streets in manitou, colorado springs areas\n",
      " \n",
      "ancient mayan tablet with hieroglyphics honors lowly king http://t.co/wqikqx9e3w\n",
      " \n",
      "@lonewolffur bruh *dies*\n",
      " \n",
      "reddit will now quarantineû_ http://t.co/pkuamxw6pm #onlinecommunities #reddit #amageddon #freespeech #business http://t.co/pawvnj4sap\n",
      " \n",
      "rizzo is on ???????? that ball was obliterated\n",
      " \n",
      "ebola: alabama home quarantined over possible ebola case.. related articles: http://t.co/biigd1leq3\n",
      " \n",
      "dk eyewitness travel guide: denmark: travel guide ebay auctions you should keep an eye on: http://t.co/qpur3vd7hl\n",
      " \n",
      "i-10 eb at ms line update: offloading the hazardous material is going much slower than expected. road could stay closed until tomorrow am.\n",
      " \n",
      "apd investigating fatal shooting of 3 year old child in southeast anchorage http://t.co/qyccvuubkr\n",
      " \n",
      "check this @suryaray udhampur terror attack: militants attack police post 2 spos injured:û_ http://t.co/ptq3zmgnck #suryaray #india\n",
      " \n",
      "#raining #flooding #florida #tampabay #tampa 18 or 19 days. i've lost count \n",
      " \n",
      "california &amp;#039;monster&amp;#039; fire is 20% contained as 13000 are told to evacuate http://t.co/aptap6yx1r\n",
      " \n",
      "winnipeg police seek witnesses in arlington and william fatal crash http://t.co/n2bcf4m64v\n",
      " \n",
      "i just checked in! ûò at on fire on @zomatoaus #lovefood http://t.co/9l5kqykrbg\n",
      " \n",
      "hey there lonely girl\n",
      "did you have to tell your friends\n",
      "about the way i got you screaming my name?\n",
      " \n",
      "3 years after the sikh temple massacre hate-violence prevention is key | @dviyer @colorlines http://t.co/nlbltynv36 http://t.co/bjrrqhhohl\n",
      " \n",
      "shoot shit up till we see body bags\n",
      " \n",
      "*new!* stretcher in 5 min https://t.co/q5mdsnbcmh (by fujiwara shunichiro 2015-08-05) [technology]\n",
      " \n",
      "literally just sunk in we got backty school in exactly a week :s :s :s\n",
      " \n",
      "rt @truediagnosis: 250k deaths per year from #physician error: http://t.co/dutyzqr2p7åê how to avoid being one of them: http://t.co/oznsxxvxû_\n",
      " \n",
      "that triumphant moment when you cook up two eggs over easy with no yolk casualties ?? http://t.co/fqj5aga1pd\n",
      " \n",
      "sign the petition @david_cameron to protect bees instead of toxic chemical companies want to harm them! #savebees  - http://t.co/db7ft3yi6d\n",
      " \n",
      "nuclear deal disaster.\n",
      "\n",
      "#irandeal #nonucleariran #badirandeal @jebbush @barackobama http://t.co/z7phpjtqud\n",
      " \n",
      "udhampur terror attack: nia takes over probe pakistani terrorist quizzed; pak denies link  http://t.co/ogzjokd7sv  #elections #achedin #û_\n",
      " \n",
      "sharing to help our cousin's family http://t.co/lsjowgyvqh\n",
      " \n",
      "bolshevik government monopolized food supply to seize power over hunhry population. artificial famine was the result https://t.co/0xouv7dhwz\n",
      " \n",
      "neil_eastwood77: i am a knobhead!! bin laden family plane crashed after 'avoiding microlight and landing t... û_ http://t.co/duvuzhmvut\n",
      " \n",
      "@rubi_ how many stacks of burning did it apply?\n",
      " \n",
      ".@uber is looking to repair its recent bad rap with some #nonprofit partnerships: http://t.co/h1xch54kd3\n",
      " \n",
      "emergency surgery\n",
      " \n",
      "ever since kelly's burned i keep having dreams about being inside burning buildings ??\n",
      " \n",
      "@starflame_girl yeah i have a crush on her\n",
      " \n",
      "i think i'll get obliterated tonight\n",
      " \n",
      "rly tragedy in mp: some live to recount horror: ûïwhen i saw coaches of my train plunging into water i called ... http://t.co/car5qeuvhh\n",
      " \n",
      "two cars collided following shotgun fire in denton http://t.co/0r03c6njli\n",
      " \n",
      "louis is sad. cancel the show now. everyone leave. evacuate. this cannot go on.\n",
      " \n",
      "what the hell is wrong with people?!communication!  rule with an iron fist ticket to disaster.  can't swing one day and not the next.\n",
      " \n",
      "gunmen kill four in el salvador bus attack: suspected salvadoran gang members killed four people and wounded s... http://t.co/cntwb6sczj\n",
      " \n",
      "turn on your radios #stoponesounds is live on your #airwaves http://t.co/g7s34sw2am &amp; 107.9 fm @stickynyc @95roots  blazing all your hits\n",
      " \n",
      "hellfire! we donûªt even want to think about it or mention it so letûªs not do anything that leads to it!\n",
      " \n",
      "i crushed a 11.2 km run with a pace of 7'46' with nike+ sportwatch gps. #nikeplus: http://t.co/7d7vweq3es\n",
      " \n",
      "#abcnews obama declares disaster for typhoon-devastated saipan: obama signs disaster declaration for no... http://t.co/dobzc3pitm #world\n",
      " \n",
      "i just screamed @toddyrockstar http://t.co/jdtpirnm76\n",
      " \n",
      "turkish troops killed in kurdish militant 'suicide attack' http://t.co/wd7s6s0vci\n",
      " \n",
      "video captures man removing american flag from long beach ca home burning it; arsonist sought http://t.co/jp2qlrunjj http://t.co/jbpgkgowsi\n"
     ]
    }
   ],
   "source": [
    "# Selecting n random items from the list\n",
    "random_items = random.sample(texts.to_list(), 60)\n",
    "\n",
    "# Printing the random items\n",
    "for item in random_items:\n",
    "    print(\" \")\n",
    "    print(item)"
   ]
  },
  {
   "cell_type": "markdown",
   "id": "62c4a8d5",
   "metadata": {},
   "source": [
    "Observations: While there are links, they are likely unique and unlikely to affect deep learning. If they are not unique and have occurred multiple times, they could be an important source of information such as \"Rickroll\" link for pranks or specific reports on a news site. Twitter handles should not be removed, people could be tweeting to a natural disaster expert, journalist, government etc... if the handles occur multiple times for real disasters or to celebrities for fake disasters such as relating to a bad movie.\n",
    "\n",
    "Because of how short a tweet is, most of the text information should be kept or else we're left with only a few words"
   ]
  },
  {
   "cell_type": "code",
   "execution_count": 56,
   "id": "98c2b7ca",
   "metadata": {},
   "outputs": [
    {
     "data": {
      "image/png": "[encoded data removed]",
      "text/plain": [
       "<Figure size 1000x600 with 1 Axes>"
      ]
     },
     "metadata": {},
     "output_type": "display_data"
    }
   ],
   "source": [
    "# Are disaster tweets shorter of longer than non-disaster tweets?\n",
    "\n",
    "df['text_length'] = df['text'].apply(len)\n",
    "\n",
    "# Create the histogram\n",
    "plt.figure(figsize=(10, 6))\n",
    "for label in df['target'].unique():\n",
    "    subset = df[df['target'] == label]\n",
    "    plt.hist(subset['text_length'], bins=50, alpha=0.5, label=f'Class {label}')\n",
    "\n",
    "plt.title('Histogram of Text Lengths by Target Class')\n",
    "plt.xlabel('Length of Text')\n",
    "plt.ylabel('Frequency')\n",
    "plt.legend()\n",
    "plt.show()"
   ]
  },
  {
   "cell_type": "markdown",
   "id": "64736795",
   "metadata": {},
   "source": [
    "Generally real disasters are longer but they are still very similar in character length. "
   ]
  },
  {
   "cell_type": "markdown",
   "id": "210182e4",
   "metadata": {},
   "source": [
    "## Model Architecture\n",
    "## Data Preprocessing\n",
    "\n",
    "### Word Embeddings\n",
    "The Tokenizer class from the Keras library is used to preprocess text data for training in machine learning models, particularly for natural language processing (NLP) tasks. I chose the default Kerase tokenizer for direct use in neural network models where custom training or leveraging Keras’s built-in functionalities is desired.\n",
    "\n",
    "TF-IDF might be better for tasks focused on keyword significance across documents.but may not capture the nuances of language due to its ignorance of word order and semantics. In this case, it is not useful because the keyword columns are already included and are not good determinants if a tweet is a disaster or not.\n",
    "\n",
    "Word2Vec can be used if contextual subtleties are less critical, but may not handle polysemy (words with multiple meanings) effectively which occurs frequently in this dataset (Instagram on fire vs forest on fire). "
   ]
  },
  {
   "cell_type": "code",
   "execution_count": 57,
   "id": "7ddb34e2-bdef-4f10-a1ab-2e6f2fc73b7c",
   "metadata": {},
   "outputs": [
    {
     "name": "stdout",
     "output_type": "stream",
     "text": [
      "Found 22700 unique tokens.\n"
     ]
    }
   ],
   "source": [
    "# Tokenization\n",
    "tokenizer = Tokenizer()\n",
    "tokenizer.fit_on_texts(texts)\n",
    "sequences = tokenizer.texts_to_sequences(texts)\n",
    "word_index = tokenizer.word_index\n",
    "print(f'Found {len(word_index)} unique tokens.')\n",
    "\n",
    "# Padding\n",
    "data = pad_sequences(sequences, maxlen=100)  # assuming tweets are no longer than 100 words"
   ]
  },
  {
   "cell_type": "markdown",
   "id": "d4fd85ce",
   "metadata": {},
   "source": [
    "## Model Building\n",
    "\n",
    "## Model Building\n",
    "\n",
    "The provided model is structured using Keras, a popular deep learning framework, and is designed for classifying tweets into two categories: tweets about a real disaster and those that are not. The architecture of this model combines several components that make it particularly effective for this task. Here's an explanation of each component and its role:\n",
    "\n",
    "1. **Embedding Layer**\n",
    "   - **Purpose:** Maps each word index to a dense vector of fixed size (embedding_dim). This vector seeks to capture semantic properties of words, where similar words have similar encoding.\n",
    "   - **Effectiveness:** For tweet classification, embeddings help capture the contextual meanings of words in a lower-dimensional space. Given that tweets are short, capturing subtle semantic cues is crucial, and embeddings provide a way to do this efficiently.\n",
    "\n",
    "2. **LSTM Layers**\n",
    "   - **Configuration:**\n",
    "     - The first LSTM layer has 64 units and returns sequences. This means it outputs the hidden state for each time step, allowing the next LSTM layer to capture information from the entire sequence.\n",
    "     - The second LSTM layer has 32 units and does not return sequences, meaning it only returns the output of the last time step.\n",
    "   - **Purpose:** Long Short-Term Memory (LSTM) networks are a type of recurrent neural network (RNN) capable of learning order dependence in sequence prediction problems.\n",
    "   - **Effectiveness:** LSTMs are particularly suited for classification based on the sequence of words in tweets. They can capture temporal dependencies and nuances in the text data, which are important for understanding the context in which words are used (e.g., distinguishing a literal disaster from a metaphorical one).\n",
    "\n",
    "3. **Dense and Dropout Layers**\n",
    "   - **Dense Layers:**\n",
    "     - The first dense layer has 32 neurons and uses ReLU (rectified linear unit) activation, a common choice for introducing non-linearity into the model, helping it learn more complex patterns.\n",
    "     - The final dense layer with a single neuron and sigmoid activation outputs a probability indicating the likelihood of the tweet being about a real disaster.\n",
    "   - **Dropout Layer:**\n",
    "     - A dropout rate of 0.5 is used, which randomly sets the output features of 50% of the neurons to zero during training. This prevents overfitting by ensuring that the model does not rely too heavily on any particular neuron, promoting generalization.\n",
    "   - **Effectiveness:** The combination of dense layers for pattern recognition and dropout for regularization is effective in managing the complexity and variance in the data, helping to avoid overfitting especially in a dataset that might not be very large.\n",
    "\n",
    "4. **Compilation**\n",
    "   - **Optimizer:** 'adam' is an adaptive learning rate optimizer known for its effectiveness in different kinds of deep learning models, making it a robust choice for training.\n",
    "   - **Loss Function:** 'binary_crossentropy' is appropriate for binary classification tasks, directly targeting the minimization of errors in a probabilistic context, which is exactly the goal when predicting whether a tweet is about a real disaster or not.\n",
    "   - **Metrics:** 'accuracy' is a straightforward and interpretable metric for classification tasks, helping to assess the percentage of correct predictions."
   ]
  },
  {
   "cell_type": "code",
   "execution_count": 58,
   "id": "64a56958-5538-402c-9dc2-981e8801e0b9",
   "metadata": {},
   "outputs": [
    {
     "name": "stdout",
     "output_type": "stream",
     "text": [
      "Model: \"sequential_2\"\n",
      "_________________________________________________________________\n",
      " Layer (type)                Output Shape              Param #   \n",
      "=================================================================\n",
      " embedding_2 (Embedding)     (None, None, 50)          1135050   \n",
      "                                                                 \n",
      " lstm_5 (LSTM)               (None, None, 64)          29440     \n",
      "                                                                 \n",
      " lstm_6 (LSTM)               (None, 32)                12416     \n",
      "                                                                 \n",
      " dense_4 (Dense)             (None, 32)                1056      \n",
      "                                                                 \n",
      " dropout_2 (Dropout)         (None, 32)                0         \n",
      "                                                                 \n",
      " dense_5 (Dense)             (None, 1)                 33        \n",
      "                                                                 \n",
      "=================================================================\n",
      "Total params: 1177995 (4.49 MB)\n",
      "Trainable params: 1177995 (4.49 MB)\n",
      "Non-trainable params: 0 (0.00 Byte)\n",
      "_________________________________________________________________\n"
     ]
    }
   ],
   "source": [
    "# Parameters\n",
    "vocab_size = len(word_index) + 1  # Adding 1 because index 0 is not used\n",
    "embedding_dim = 50  # Dimension of the embedding vector\n",
    "\n",
    "# Building the model\n",
    "model = Sequential([\n",
    "    Embedding(input_dim=vocab_size, output_dim=embedding_dim),\n",
    "    LSTM(64, return_sequences=True),\n",
    "    LSTM(32),\n",
    "    Dense(32, activation='relu'),\n",
    "    Dropout(0.5),\n",
    "    Dense(1, activation='sigmoid')\n",
    "])\n",
    "\n",
    "model.compile(optimizer='adam', loss='binary_crossentropy', metrics=['accuracy'])\n",
    "model.summary()"
   ]
  },
  {
   "cell_type": "code",
   "execution_count": 59,
   "id": "acb11dcd-5d74-487d-9537-09c345472bf2",
   "metadata": {},
   "outputs": [
    {
     "name": "stdout",
     "output_type": "stream",
     "text": [
      "Epoch 1/5\n",
      "96/96 [==============================] - 30s 196ms/step - loss: 0.6077 - accuracy: 0.6724 - val_loss: 0.4702 - val_accuracy: 0.7866\n",
      "Epoch 2/5\n",
      "96/96 [==============================] - 17s 173ms/step - loss: 0.3477 - accuracy: 0.8685 - val_loss: 0.4720 - val_accuracy: 0.7873\n",
      "Epoch 3/5\n",
      "96/96 [==============================] - 17s 177ms/step - loss: 0.1843 - accuracy: 0.9404 - val_loss: 0.6112 - val_accuracy: 0.7886\n",
      "Epoch 4/5\n",
      "96/96 [==============================] - 16s 162ms/step - loss: 0.0943 - accuracy: 0.9688 - val_loss: 0.8018 - val_accuracy: 0.7354\n",
      "Epoch 5/5\n",
      "96/96 [==============================] - 16s 164ms/step - loss: 0.0609 - accuracy: 0.9828 - val_loss: 0.8921 - val_accuracy: 0.7439\n",
      "48/48 [==============================] - 1s 28ms/step - loss: 0.8921 - accuracy: 0.7439\n",
      "Test accuracy: 0.743926465511322\n"
     ]
    }
   ],
   "source": [
    "# Step 4: Split data and train the model\n",
    "X_train, X_test, y_train, y_test = train_test_split(data, targets, test_size=0.2, random_state=42)\n",
    "simple_model = model.fit(X_train, y_train, epochs=5, batch_size=64, validation_data=(X_test, y_test))\n",
    "\n",
    "# Step 5: Evaluate the model\n",
    "loss, accuracy = model.evaluate(X_test, y_test)\n",
    "print(f'Test accuracy: {accuracy}')"
   ]
  },
  {
   "cell_type": "code",
   "execution_count": 64,
   "id": "43643273",
   "metadata": {},
   "outputs": [
    {
     "data": {
      "image/png": "[encoded data removed]",
      "text/plain": [
       "<Figure size 640x480 with 2 Axes>"
      ]
     },
     "metadata": {},
     "output_type": "display_data"
    }
   ],
   "source": [
    "# Plot training & validation accuracy\n",
    "plt.subplot(1, 2, 1)\n",
    "plt.plot(simple_model.history['accuracy'], label='Training Accuracy')\n",
    "plt.plot(simple_model.history['val_accuracy'], label='Validation Accuracy')\n",
    "plt.title('Training and Validation Accuracy')\n",
    "plt.xlabel('Epoch')\n",
    "plt.ylabel('Accuracy')\n",
    "plt.legend()\n",
    "\n",
    "# Plot training & validation loss\n",
    "plt.subplot(1, 2, 2)\n",
    "plt.plot(simple_model.history['loss'], label='Training Loss')\n",
    "plt.plot(simple_model.history['val_loss'], label='Validation Loss')\n",
    "plt.title('Training and Validation Loss')\n",
    "plt.xlabel('Epoch')\n",
    "plt.ylabel('Loss')\n",
    "plt.legend()\n",
    "\n",
    "plt.show()"
   ]
  },
  {
   "cell_type": "markdown",
   "id": "a5a2eb45",
   "metadata": {},
   "source": [
    "### Overall Effectiveness\n",
    "\n",
    "At a validation accuracy of approximately 79%, this model is well-suited for the task of classifying tweets about real disasters because it integrates powerful NLP components (like word embeddings and LSTMs) to effectively capture and utilize the semantic and syntactic structure of language in tweets. Additionally, it includes mechanisms (like dropout and sigmoid activation) to manage overfitting and to produce probabilistic outputs, respectively, enhancing its predictive capabilities and robustness. From the charts, it can be seen that additional epoches leads to overfitting with an increase in training accuracy and a decrease in validation accuracy. "
   ]
  },
  {
   "cell_type": "markdown",
   "id": "314751b7",
   "metadata": {},
   "source": [
    "## Results and Analysis\n",
    "### Model Tuning\n",
    "\n",
    "Because this is a mini-project and the goal is not to reach the top result on Kaggle, I used RandomSearch(), which is a method for hyperparameter tuning in machine learning models. This method is used to find the best parameters for a model, helping improve its performance on given tasks.\n",
    "\n",
    "Random Search is an alternative to Grid Search for hyperparameter optimization. Instead of systematically testing all possible combinations of parameters (as in Grid Search), Random Search selects random combinations of parameters to test. This approach can be more efficient when dealing with a large number of hyperparameters or when the hyperparameters are expected to have non-uniform influence on the model performance."
   ]
  },
  {
   "cell_type": "code",
   "execution_count": 18,
   "id": "dca41686-e0f6-44b7-824f-c04fa43ff843",
   "metadata": {},
   "outputs": [],
   "source": [
    "def build_model(hp):\n",
    "    model = Sequential()\n",
    "    model.add(Embedding(input_dim=vocab_size, output_dim=hp.Int('embedding_dim', min_value=32, max_value=128, step=32)))\n",
    "    \n",
    "    for i in range(hp.Int('num_lstm_layers', 1, 3)):\n",
    "        model.add(LSTM(units=hp.Int('units_lstm_' + str(i), min_value=32, max_value=128, step=32), return_sequences=True))\n",
    "    model.add(LSTM(units=hp.Int('units_lstm_final', min_value=32, max_value=128, step=32), return_sequences=False))\n",
    "    \n",
    "    model.add(Dropout(rate=hp.Float('dropout', min_value=0.0, max_value=0.5, step=0.1)))\n",
    "    \n",
    "    model.add(Dense(units=hp.Int('units_dense', min_value=32, max_value=128, step=32), activation='relu'))\n",
    "    model.add(Dense(1, activation='sigmoid'))\n",
    "    \n",
    "    model.compile(optimizer=hp.Choice('optimizer', ['adam', 'rmsprop']),\n",
    "                  loss='binary_crossentropy',\n",
    "                  metrics=['accuracy'])\n",
    "    return model"
   ]
  },
  {
   "cell_type": "code",
   "execution_count": 19,
   "id": "92b26e76-9ccf-4bfa-aa80-1efcb44a9d9a",
   "metadata": {},
   "outputs": [
    {
     "name": "stdout",
     "output_type": "stream",
     "text": [
      "Search space summary\n",
      "Default search space size: 7\n",
      "embedding_dim (Int)\n",
      "{'default': None, 'conditions': [], 'min_value': 32, 'max_value': 128, 'step': 32, 'sampling': 'linear'}\n",
      "num_lstm_layers (Int)\n",
      "{'default': None, 'conditions': [], 'min_value': 1, 'max_value': 3, 'step': 1, 'sampling': 'linear'}\n",
      "units_lstm_0 (Int)\n",
      "{'default': None, 'conditions': [], 'min_value': 32, 'max_value': 128, 'step': 32, 'sampling': 'linear'}\n",
      "units_lstm_final (Int)\n",
      "{'default': None, 'conditions': [], 'min_value': 32, 'max_value': 128, 'step': 32, 'sampling': 'linear'}\n",
      "dropout (Float)\n",
      "{'default': 0.0, 'conditions': [], 'min_value': 0.0, 'max_value': 0.5, 'step': 0.1, 'sampling': 'linear'}\n",
      "units_dense (Int)\n",
      "{'default': None, 'conditions': [], 'min_value': 32, 'max_value': 128, 'step': 32, 'sampling': 'linear'}\n",
      "optimizer (Choice)\n",
      "{'default': 'adam', 'conditions': [], 'values': ['adam', 'rmsprop'], 'ordered': False}\n"
     ]
    }
   ],
   "source": [
    "tuner = RandomSearch(\n",
    "    build_model,\n",
    "    objective='val_accuracy',\n",
    "    max_trials=10,  # number of model configurations to try\n",
    "    executions_per_trial=1,  # number of models to build and fit for each trial\n",
    "    directory='model_tuning',\n",
    "    project_name='DisasterTweetClassification'\n",
    ")\n",
    "\n",
    "# Display search space summary\n",
    "tuner.search_space_summary()\n"
   ]
  },
  {
   "cell_type": "code",
   "execution_count": 20,
   "id": "184dbfbc-9760-4a45-9100-a9626f9ca409",
   "metadata": {},
   "outputs": [
    {
     "name": "stdout",
     "output_type": "stream",
     "text": [
      "Trial 10 Complete [00h 02m 27s]\n",
      "val_accuracy: 0.8095863461494446\n",
      "\n",
      "Best val_accuracy So Far: 0.813525915145874\n",
      "Total elapsed time: 00h 23m 44s\n"
     ]
    }
   ],
   "source": [
    "tuner.search(X_train, y_train, epochs=5, validation_data=(X_test, y_test))"
   ]
  },
  {
   "cell_type": "code",
   "execution_count": 21,
   "id": "497a2cc3-dcfb-4965-8a88-77c6e58e2228",
   "metadata": {},
   "outputs": [
    {
     "name": "stdout",
     "output_type": "stream",
     "text": [
      "48/48 [==============================] - 5s 41ms/step - loss: 0.4360 - accuracy: 0.8135\n",
      "Best model accuracy:  0.813525915145874\n"
     ]
    }
   ],
   "source": [
    "best_model = tuner.get_best_models(num_models=1)[0]\n",
    "loss, accuracy = best_model.evaluate(X_test, y_test)\n",
    "print(\"Best model accuracy: \", accuracy)"
   ]
  },
  {
   "cell_type": "code",
   "execution_count": 23,
   "id": "1bc19c4e",
   "metadata": {},
   "outputs": [
    {
     "name": "stdout",
     "output_type": "stream",
     "text": [
      "Model: \"sequential\"\n",
      "_________________________________________________________________\n",
      " Layer (type)                Output Shape              Param #   \n",
      "=================================================================\n",
      " embedding (Embedding)       (None, None, 64)          1452864   \n",
      "                                                                 \n",
      " lstm (LSTM)                 (None, None, 32)          12416     \n",
      "                                                                 \n",
      " lstm_1 (LSTM)               (None, None, 96)          49536     \n",
      "                                                                 \n",
      " lstm_2 (LSTM)               (None, 64)                41216     \n",
      "                                                                 \n",
      " dropout (Dropout)           (None, 64)                0         \n",
      "                                                                 \n",
      " dense (Dense)               (None, 128)               8320      \n",
      "                                                                 \n",
      " dense_1 (Dense)             (None, 1)                 129       \n",
      "                                                                 \n",
      "=================================================================\n",
      "Total params: 1564481 (5.97 MB)\n",
      "Trainable params: 1564481 (5.97 MB)\n",
      "Non-trainable params: 0 (0.00 Byte)\n",
      "_________________________________________________________________\n"
     ]
    }
   ],
   "source": [
    "best_model.summary()"
   ]
  },
  {
   "cell_type": "code",
   "execution_count": 65,
   "id": "1097a19c",
   "metadata": {},
   "outputs": [
    {
     "name": "stdout",
     "output_type": "stream",
     "text": [
      "Results summary\n",
      "Results in model_tuning\\DisasterTweetClassification\n",
      "Showing 10 best trials\n",
      "Objective(name=\"val_accuracy\", direction=\"max\")\n",
      "\n",
      "Trial 04 summary\n",
      "Hyperparameters:\n",
      "embedding_dim: 64\n",
      "num_lstm_layers: 2\n",
      "units_lstm_0: 32\n",
      "units_lstm_final: 64\n",
      "dropout: 0.0\n",
      "units_dense: 128\n",
      "optimizer: rmsprop\n",
      "units_lstm_1: 96\n",
      "units_lstm_2: 96\n",
      "Score: 0.813525915145874\n",
      "\n",
      "Trial 06 summary\n",
      "Hyperparameters:\n",
      "embedding_dim: 64\n",
      "num_lstm_layers: 1\n",
      "units_lstm_0: 64\n",
      "units_lstm_final: 128\n",
      "dropout: 0.30000000000000004\n",
      "units_dense: 96\n",
      "optimizer: rmsprop\n",
      "units_lstm_1: 96\n",
      "units_lstm_2: 64\n",
      "Score: 0.8122127652168274\n",
      "\n",
      "Trial 05 summary\n",
      "Hyperparameters:\n",
      "embedding_dim: 128\n",
      "num_lstm_layers: 3\n",
      "units_lstm_0: 64\n",
      "units_lstm_final: 32\n",
      "dropout: 0.1\n",
      "units_dense: 64\n",
      "optimizer: rmsprop\n",
      "units_lstm_1: 64\n",
      "units_lstm_2: 64\n",
      "Score: 0.810899555683136\n",
      "\n",
      "Trial 09 summary\n",
      "Hyperparameters:\n",
      "embedding_dim: 32\n",
      "num_lstm_layers: 3\n",
      "units_lstm_0: 64\n",
      "units_lstm_final: 32\n",
      "dropout: 0.1\n",
      "units_dense: 128\n",
      "optimizer: rmsprop\n",
      "units_lstm_1: 96\n",
      "units_lstm_2: 64\n",
      "Score: 0.8095863461494446\n",
      "\n",
      "Trial 01 summary\n",
      "Hyperparameters:\n",
      "embedding_dim: 96\n",
      "num_lstm_layers: 3\n",
      "units_lstm_0: 64\n",
      "units_lstm_final: 64\n",
      "dropout: 0.0\n",
      "units_dense: 96\n",
      "optimizer: adam\n",
      "units_lstm_1: 32\n",
      "units_lstm_2: 32\n",
      "Score: 0.8082731366157532\n",
      "\n",
      "Trial 00 summary\n",
      "Hyperparameters:\n",
      "embedding_dim: 64\n",
      "num_lstm_layers: 1\n",
      "units_lstm_0: 64\n",
      "units_lstm_final: 128\n",
      "dropout: 0.1\n",
      "units_dense: 128\n",
      "optimizer: rmsprop\n",
      "Score: 0.8056467771530151\n",
      "\n",
      "Trial 08 summary\n",
      "Hyperparameters:\n",
      "embedding_dim: 32\n",
      "num_lstm_layers: 2\n",
      "units_lstm_0: 128\n",
      "units_lstm_final: 96\n",
      "dropout: 0.0\n",
      "units_dense: 96\n",
      "optimizer: adam\n",
      "units_lstm_1: 32\n",
      "units_lstm_2: 64\n",
      "Score: 0.8043335676193237\n",
      "\n",
      "Trial 02 summary\n",
      "Hyperparameters:\n",
      "embedding_dim: 32\n",
      "num_lstm_layers: 3\n",
      "units_lstm_0: 64\n",
      "units_lstm_final: 96\n",
      "dropout: 0.0\n",
      "units_dense: 96\n",
      "optimizer: rmsprop\n",
      "units_lstm_1: 96\n",
      "units_lstm_2: 96\n",
      "Score: 0.7997373342514038\n",
      "\n",
      "Trial 07 summary\n",
      "Hyperparameters:\n",
      "embedding_dim: 128\n",
      "num_lstm_layers: 3\n",
      "units_lstm_0: 96\n",
      "units_lstm_final: 64\n",
      "dropout: 0.4\n",
      "units_dense: 96\n",
      "optimizer: rmsprop\n",
      "units_lstm_1: 32\n",
      "units_lstm_2: 32\n",
      "Score: 0.7997373342514038\n",
      "\n",
      "Trial 03 summary\n",
      "Hyperparameters:\n",
      "embedding_dim: 32\n",
      "num_lstm_layers: 1\n",
      "units_lstm_0: 96\n",
      "units_lstm_final: 128\n",
      "dropout: 0.30000000000000004\n",
      "units_dense: 64\n",
      "optimizer: adam\n",
      "units_lstm_1: 32\n",
      "units_lstm_2: 32\n",
      "Score: 0.7852922081947327\n"
     ]
    }
   ],
   "source": [
    "tuner.results_summary()"
   ]
  },
  {
   "cell_type": "code",
   "execution_count": 70,
   "id": "c70518d2",
   "metadata": {},
   "outputs": [
    {
     "data": {
      "text/html": [
       "<div>\n",
       "<style scoped>\n",
       "    .dataframe tbody tr th:only-of-type {\n",
       "        vertical-align: middle;\n",
       "    }\n",
       "\n",
       "    .dataframe tbody tr th {\n",
       "        vertical-align: top;\n",
       "    }\n",
       "\n",
       "    .dataframe thead th {\n",
       "        text-align: right;\n",
       "    }\n",
       "</style>\n",
       "<table border=\"1\" class=\"dataframe\">\n",
       "  <thead>\n",
       "    <tr style=\"text-align: right;\">\n",
       "      <th></th>\n",
       "      <th>Trial ID</th>\n",
       "      <th>Embedding Dim</th>\n",
       "      <th>Num LSTM Layers</th>\n",
       "      <th>Units LSTM 0</th>\n",
       "      <th>Units LSTM Final</th>\n",
       "      <th>Dropout</th>\n",
       "      <th>Units Dense</th>\n",
       "      <th>Optimizer</th>\n",
       "      <th>Units LSTM 1</th>\n",
       "      <th>Units LSTM 2</th>\n",
       "      <th>Score</th>\n",
       "    </tr>\n",
       "  </thead>\n",
       "  <tbody>\n",
       "    <tr>\n",
       "      <th>5</th>\n",
       "      <td>00</td>\n",
       "      <td>64</td>\n",
       "      <td>1</td>\n",
       "      <td>64</td>\n",
       "      <td>128</td>\n",
       "      <td>0.1</td>\n",
       "      <td>128</td>\n",
       "      <td>rmsprop</td>\n",
       "      <td>NaN</td>\n",
       "      <td>NaN</td>\n",
       "      <td>0.8056</td>\n",
       "    </tr>\n",
       "    <tr>\n",
       "      <th>4</th>\n",
       "      <td>01</td>\n",
       "      <td>96</td>\n",
       "      <td>3</td>\n",
       "      <td>64</td>\n",
       "      <td>64</td>\n",
       "      <td>0.0</td>\n",
       "      <td>96</td>\n",
       "      <td>adam</td>\n",
       "      <td>32.0</td>\n",
       "      <td>32.0</td>\n",
       "      <td>0.8083</td>\n",
       "    </tr>\n",
       "    <tr>\n",
       "      <th>7</th>\n",
       "      <td>02</td>\n",
       "      <td>32</td>\n",
       "      <td>3</td>\n",
       "      <td>64</td>\n",
       "      <td>96</td>\n",
       "      <td>0.0</td>\n",
       "      <td>96</td>\n",
       "      <td>rmsprop</td>\n",
       "      <td>96.0</td>\n",
       "      <td>96.0</td>\n",
       "      <td>0.7997</td>\n",
       "    </tr>\n",
       "    <tr>\n",
       "      <th>9</th>\n",
       "      <td>03</td>\n",
       "      <td>32</td>\n",
       "      <td>1</td>\n",
       "      <td>96</td>\n",
       "      <td>128</td>\n",
       "      <td>0.3</td>\n",
       "      <td>64</td>\n",
       "      <td>adam</td>\n",
       "      <td>32.0</td>\n",
       "      <td>32.0</td>\n",
       "      <td>0.7853</td>\n",
       "    </tr>\n",
       "    <tr>\n",
       "      <th>0</th>\n",
       "      <td>04</td>\n",
       "      <td>64</td>\n",
       "      <td>2</td>\n",
       "      <td>32</td>\n",
       "      <td>64</td>\n",
       "      <td>0.0</td>\n",
       "      <td>128</td>\n",
       "      <td>rmsprop</td>\n",
       "      <td>96.0</td>\n",
       "      <td>96.0</td>\n",
       "      <td>0.8135</td>\n",
       "    </tr>\n",
       "    <tr>\n",
       "      <th>2</th>\n",
       "      <td>05</td>\n",
       "      <td>128</td>\n",
       "      <td>3</td>\n",
       "      <td>64</td>\n",
       "      <td>32</td>\n",
       "      <td>0.1</td>\n",
       "      <td>64</td>\n",
       "      <td>rmsprop</td>\n",
       "      <td>64.0</td>\n",
       "      <td>64.0</td>\n",
       "      <td>0.8109</td>\n",
       "    </tr>\n",
       "    <tr>\n",
       "      <th>1</th>\n",
       "      <td>06</td>\n",
       "      <td>64</td>\n",
       "      <td>1</td>\n",
       "      <td>64</td>\n",
       "      <td>128</td>\n",
       "      <td>0.3</td>\n",
       "      <td>96</td>\n",
       "      <td>rmsprop</td>\n",
       "      <td>96.0</td>\n",
       "      <td>64.0</td>\n",
       "      <td>0.8122</td>\n",
       "    </tr>\n",
       "    <tr>\n",
       "      <th>8</th>\n",
       "      <td>07</td>\n",
       "      <td>128</td>\n",
       "      <td>3</td>\n",
       "      <td>96</td>\n",
       "      <td>64</td>\n",
       "      <td>0.4</td>\n",
       "      <td>96</td>\n",
       "      <td>rmsprop</td>\n",
       "      <td>32.0</td>\n",
       "      <td>32.0</td>\n",
       "      <td>0.7997</td>\n",
       "    </tr>\n",
       "    <tr>\n",
       "      <th>6</th>\n",
       "      <td>08</td>\n",
       "      <td>32</td>\n",
       "      <td>2</td>\n",
       "      <td>128</td>\n",
       "      <td>96</td>\n",
       "      <td>0.0</td>\n",
       "      <td>96</td>\n",
       "      <td>adam</td>\n",
       "      <td>32.0</td>\n",
       "      <td>64.0</td>\n",
       "      <td>0.8043</td>\n",
       "    </tr>\n",
       "    <tr>\n",
       "      <th>3</th>\n",
       "      <td>09</td>\n",
       "      <td>32</td>\n",
       "      <td>3</td>\n",
       "      <td>64</td>\n",
       "      <td>32</td>\n",
       "      <td>0.1</td>\n",
       "      <td>128</td>\n",
       "      <td>rmsprop</td>\n",
       "      <td>96.0</td>\n",
       "      <td>64.0</td>\n",
       "      <td>0.8096</td>\n",
       "    </tr>\n",
       "  </tbody>\n",
       "</table>\n",
       "</div>"
      ],
      "text/plain": [
       "  Trial ID  Embedding Dim  Num LSTM Layers  Units LSTM 0  Units LSTM Final  \\\n",
       "5       00             64                1            64               128   \n",
       "4       01             96                3            64                64   \n",
       "7       02             32                3            64                96   \n",
       "9       03             32                1            96               128   \n",
       "0       04             64                2            32                64   \n",
       "2       05            128                3            64                32   \n",
       "1       06             64                1            64               128   \n",
       "8       07            128                3            96                64   \n",
       "6       08             32                2           128                96   \n",
       "3       09             32                3            64                32   \n",
       "\n",
       "   Dropout  Units Dense Optimizer  Units LSTM 1  Units LSTM 2   Score  \n",
       "5      0.1          128   rmsprop           NaN           NaN  0.8056  \n",
       "4      0.0           96      adam          32.0          32.0  0.8083  \n",
       "7      0.0           96   rmsprop          96.0          96.0  0.7997  \n",
       "9      0.3           64      adam          32.0          32.0  0.7853  \n",
       "0      0.0          128   rmsprop          96.0          96.0  0.8135  \n",
       "2      0.1           64   rmsprop          64.0          64.0  0.8109  \n",
       "1      0.3           96   rmsprop          96.0          64.0  0.8122  \n",
       "8      0.4           96   rmsprop          32.0          32.0  0.7997  \n",
       "6      0.0           96      adam          32.0          64.0  0.8043  \n",
       "3      0.1          128   rmsprop          96.0          64.0  0.8096  "
      ]
     },
     "execution_count": 70,
     "metadata": {},
     "output_type": "execute_result"
    }
   ],
   "source": [
    "import pandas as pd\n",
    "\n",
    "# Define data for each trial as a dictionary, then compile them into a DataFrame\n",
    "data = {\n",
    "    \"Trial ID\": [\"04\", \"06\", \"05\", \"09\", \"01\", \"00\", \"08\", \"02\", \"07\", \"03\"],\n",
    "    \"Embedding Dim\": [64, 64, 128, 32, 96, 64, 32, 32, 128, 32],\n",
    "    \"Num LSTM Layers\": [2, 1, 3, 3, 3, 1, 2, 3, 3, 1],\n",
    "    \"Units LSTM 0\": [32, 64, 64, 64, 64, 64, 128, 64, 96, 96],\n",
    "    \"Units LSTM Final\": [64, 128, 32, 32, 64, 128, 96, 96, 64, 128],\n",
    "    \"Dropout\": [0.0, 0.3, 0.1, 0.1, 0.0, 0.1, 0.0, 0.0, 0.4, 0.3],\n",
    "    \"Units Dense\": [128, 96, 64, 128, 96, 128, 96, 96, 96, 64],\n",
    "    \"Optimizer\": [\"rmsprop\", \"rmsprop\", \"rmsprop\", \"rmsprop\", \"adam\", \"rmsprop\", \"adam\", \"rmsprop\", \"rmsprop\", \"adam\"],\n",
    "    \"Units LSTM 1\": [96, 96, 64, 96, 32, None, 32, 96, 32, 32],\n",
    "    \"Units LSTM 2\": [96, 64, 64, 64, 32, None, 64, 96, 32, 32],\n",
    "    \"Score\": [0.8135, 0.8122, 0.8109, 0.8096, 0.8083, 0.8056, 0.8043, 0.7997, 0.7997, 0.7853]\n",
    "}\n",
    "\n",
    "# Create the DataFrame\n",
    "results_df = pd.DataFrame(data)\n",
    "\n",
    "# Print the DataFrame\n",
    "results_df.sort_values(by='Trial ID')\n",
    "\n",
    "# Optimization Results Table"
   ]
  },
  {
   "cell_type": "markdown",
   "id": "f90003c2",
   "metadata": {},
   "source": [
    "# Analysis of Top Performing Trials\n",
    "\n",
    "## Overview\n",
    "I'll dive into why certain trial configurations like Trial 04 stood out among the rest. Let's unpack the key elements that contributed to its success and compare it with other high-ranking trials.\n",
    "\n",
    "### Key Observations\n",
    "\n",
    "#### Trial 04 (Best Score: 0.8135)\n",
    "- Embedding Dimension: 64\n",
    "- Number of LSTM Layers: 2\n",
    "- LSTM Units: Configured as 32 in the first layer, followed by 96 in the next two layers.\n",
    "- Dropout: 0.0 (no dropout applied)\n",
    "- Dense Units: 128\n",
    "- Optimizer: RMSprop\n",
    "\n",
    "Insights:\n",
    "- The lack of dropout and a balanced approach to the number of LSTM units across layers likely led to its high performance. RMSprop, known for its robustness against noisy gradients, seems to have been a key factor as well.\n",
    "\n",
    "#### Other Top Trials (e.g., Trial 06, Trial 05)\n",
    "- Embedding Dimensions: Used both 64 and 128 without consistent effects, suggesting flexibility within this range.\n",
    "- Number of LSTM Layers: 1 to 3 layers were tested. The best results were seen with 2 layers, indicating more layers aren’t always better.\n",
    "- Dropout: Varied from 0.0 to 0.3, with mixed results. The top performing trials didn't use dropout, hinting that it may not be necessary for this dataset.\n",
    "\n",
    "## Why Certain Configurations Worked Well\n",
    "\n",
    "- LSTM Units: Having a just-right number of LSTM units seems to hit the sweet spot—enough to learn effectively without overfitting or underperforming.\n",
    "- Dropout: The best trial skipping dropout suggests the model performed best when learning from all available information during each learning phase.\n",
    "- Optimizer: RMSprop kept showing up in the mix of better-performing trials, possibly due to its adept handling of LSTM’s noisy gradients.\n",
    "\n",
    "## Hyperparameter Optimization Procedure Summary\n",
    "\n",
    "RandomSearch Method:\n",
    "- I set up a search space that included parameters like embedding dimensions, LSTM layer count, unit configurations, dropout rates, dense units, and optimizer types.\n",
    "- I mixed and matched these parameters in 10 different trials, aiming to nail down the best model based on how well it did on a validation set."
   ]
  },
  {
   "cell_type": "markdown",
   "id": "873b3d07",
   "metadata": {},
   "source": [
    "# Conclusion\n",
    "\n",
    "Using RandomSearch, I discovered that sometimes simpler is better. The standout model had just two LSTM layers and zero dropout, with RMSprop steering the ship. This setup shows that even a random search can reveal unexpectedly effective models, balancing complexity and generalization capabilities based on real-world performance rather than just theory. All of these models performed similarily to the simple model first created as well as each other.\n",
    "\n",
    "In cases where dropout was used, no clear benefit was observed. This suggests that dropout, which is typically employed to prevent overfitting, was either unnecessary due to the model not being prone to overfitting with the given data and configurations, or it was detrimental by impeding the model's ability to learn from the full set of features.\n",
    "\n",
    "While variations in embedding dimensions (ranging from 64 to 128) didn’t show a consistent advantage, it suggests that within this range, the choice of dimensionality was less critical to performance, possibly due to the model's ability to adapt to the provided information capacity.\n",
    "\n",
    "### Future Improvements\n",
    "\n",
    "While dropout did not show benefits, other regularization methods like L1/L2 regularization or advanced techniques such as Batch Normalization could be explored to see if they offer any improvement without the drawbacks observed with dropout.\n",
    "\n",
    "Incorporating learning rate schedules or using optimizers like Adam, which adjust the learning rate dynamically, might yield improvements, especially in convergence speed and handling data with varying scales and complexities.\n",
    "\n",
    "Beyond traditional LSTMs, other RNN architectures like GRU (Gated Recurrent Unit) or even bidirectional RNNs might provide different benefits, balancing computational efficiency and model performance.\n",
    "\n",
    "More word embedding techniques and data preprocessing techniques could be explored and how they affect model performance."
   ]
  },
  {
   "cell_type": "code",
   "execution_count": 83,
   "id": "4360564d",
   "metadata": {},
   "outputs": [
    {
     "name": "stdout",
     "output_type": "stream",
     "text": [
      "Found 12818 unique tokens.\n",
      "102/102 [==============================] - 11s 71ms/step\n"
     ]
    }
   ],
   "source": [
    "# Kaggle Prediction\n",
    "\n",
    "# Predict\n",
    "predict_dataset = pd.read_csv('test.csv')\n",
    "predict_text = predict_dataset['text']\n",
    "\n",
    "# Tokenization\n",
    "tokenizer = Tokenizer()\n",
    "tokenizer.fit_on_texts(predict_text)\n",
    "sequences = tokenizer.texts_to_sequences(predict_text)\n",
    "word_index = tokenizer.word_index\n",
    "print(f'Found {len(word_index)} unique tokens.')\n",
    "\n",
    "# Padding\n",
    "data = pad_sequences(sequences, maxlen=100)  # assuming tweets are no longer than 100 words\n",
    "predictions = best_model.predict(data)"
   ]
  },
  {
   "cell_type": "code",
   "execution_count": 84,
   "id": "73e252ba",
   "metadata": {},
   "outputs": [],
   "source": [
    "predicted_classes = (predictions > 0.5).astype(int)\n",
    "predict_dataset['target'] = predicted_classes\n",
    "output = predict_dataset.drop(columns=['keyword', 'location', 'text'])\n",
    "output.to_csv('NLP_4_Submission.csv', index = False)"
   ]
  },
  {
   "cell_type": "code",
   "execution_count": 87,
   "id": "1a0417d9",
   "metadata": {},
   "outputs": [
    {
     "data": {
      "image/png": "[encoded data removed]",
      "text/plain": [
       "<Figure size 640x480 with 1 Axes>"
      ]
     },
     "metadata": {},
     "output_type": "display_data"
    }
   ],
   "source": [
    "import matplotlib.image as mpimg\n",
    "\n",
    "img = mpimg.imread('kaggle_results.png')\n",
    "plt.imshow(img)\n",
    "plt.axis('off')  # Turn off axis numbers and ticks\n",
    "plt.show()"
   ]
  },
  {
   "cell_type": "markdown",
   "id": "99ab5dc5",
   "metadata": {},
   "source": [
    "This is significantly worse than my validation score. It looks like there is overfitting in my model. I suspected this to be the case when the validation accuracy decreased with an increase in epochs at 3. "
   ]
  },
  {
   "cell_type": "code",
   "execution_count": null,
   "id": "cfe232fa",
   "metadata": {},
   "outputs": [],
   "source": []
  }
 ],
 "metadata": {
  "kernelspec": {
   "display_name": "Python 3 (ipykernel)",
   "language": "python",
   "name": "python3"
  },
  "language_info": {
   "codemirror_mode": {
    "name": "ipython",
    "version": 3
   },
   "file_extension": ".py",
   "mimetype": "text/x-python",
   "name": "python",
   "nbconvert_exporter": "python",
   "pygments_lexer": "ipython3",
   "version": "3.11.7"
  }
 },
 "nbformat": 4,
 "nbformat_minor": 5
}
